{
 "cells": [
  {
   "cell_type": "code",
   "execution_count": 11,
   "metadata": {},
   "outputs": [],
   "source": [
    "import os"
   ]
  },
  {
   "cell_type": "code",
   "execution_count": 12,
   "metadata": {},
   "outputs": [
    {
     "data": {
      "text/plain": [
       "'c:\\\\datascience End to End Projects\\\\TV sales prediciton\\\\TV-sales-prediction'"
      ]
     },
     "execution_count": 12,
     "metadata": {},
     "output_type": "execute_result"
    }
   ],
   "source": [
    "%pwd"
   ]
  },
  {
   "cell_type": "code",
   "execution_count": 3,
   "metadata": {},
   "outputs": [],
   "source": [
    "os.chdir(\"../\")"
   ]
  },
  {
   "cell_type": "code",
   "execution_count": 4,
   "metadata": {},
   "outputs": [
    {
     "data": {
      "text/plain": [
       "'c:\\\\datascience End to End Projects\\\\TV sales prediciton\\\\TV-sales-prediction'"
      ]
     },
     "execution_count": 4,
     "metadata": {},
     "output_type": "execute_result"
    }
   ],
   "source": [
    "%pwd"
   ]
  },
  {
   "cell_type": "code",
   "execution_count": 5,
   "metadata": {},
   "outputs": [],
   "source": [
    "# This is called the entity \n",
    "from dataclasses import dataclass # here i imported the dataclass from the dataclasses\n",
    "from pathlib import Path  # here i imported path from pathlib\n",
    "\n",
    "# here entity means DataIngestionConfig which it returns all the variables like root_dir,source_URL  and etc \n",
    "@dataclass(frozen=True) # here i declared the dataclass decorator\n",
    "class DataIngestionConfig:  # here i have created a class and named as DataIngestionConfig ,and it is not a python class because we need to declare the self to the variables if it is a python class, it is data class  and whenever i define the configuration fucntion , this class should my return function , the below are the varaible it do return \n",
    "    root_dir: Path    # these are variable which i have declared inside the class \n",
    "    source_URL: str\n",
    "    local_data_file: Path\n",
    "    unzip_dir: Path"
   ]
  },
  {
   "cell_type": "code",
   "execution_count": 6,
   "metadata": {},
   "outputs": [],
   "source": [
    "from TV_sales.constants import * # here iam importing everthing which is present in the constants->__init__.py file into inside the data_ingestion.ipynb\n",
    "from TV_sales.utils.common import read_yaml, create_directories # here iam importing the read_yaml, create_directories which are presenting inside the utils,common files into PROJECTML in which the file is data_ingestion.ipynb"
   ]
  },
  {
   "cell_type": "code",
   "execution_count": 7,
   "metadata": {},
   "outputs": [],
   "source": [
    "class ConfigurationManager:  # here iam creating class called ConfigurationManager\n",
    "    def __init__( # inisde this class iam reading all the yaml files which iam calling it from constants->__init__.py file and iam mentioning inside the class varaiable \n",
    "        self,\n",
    "        config_filepath = CONFIG_FILE_PATH,\n",
    "        params_filepath = PARAMS_FILE_PATH,\n",
    "        schema_filepath = SCHEMA_FILE_PATH):\n",
    "\n",
    "        self.config = read_yaml(config_filepath) # and here iam giving read_yaml path here and iam giving the path after that then it will return all the configuration in the variable\n",
    "        self.params = read_yaml(params_filepath)\n",
    "        self.schema = read_yaml(schema_filepath)\n",
    "\n",
    "        create_directories([self.config.artifacts_root])\n",
    "\n",
    "# now i will create artifacts root in the side of the vscode project one of the path and the below i will define the data ingestion cofiguration function\n",
    "    # the above one  entity which inside 4 variables needs to return by this below fucntion\n",
    "    def get_data_ingestion_config(self) -> DataIngestionConfig:\n",
    "        config = self.config.data_ingestion\n",
    "\n",
    "        create_directories([config.root_dir]) # here iam creating the root directory, and iam reading the config from the configurationManager class and iam going to access all the data ingestion from the config.yaml file \n",
    "\n",
    "        data_ingestion_config = DataIngestionConfig(\n",
    "            root_dir=config.root_dir,  # that how iam accessing all the things like root_dir,source_url and etc from config.yaml file and finally this fucntion do return all this variables \n",
    "            source_URL=config.source_URL,\n",
    "            local_data_file=config.local_data_file,\n",
    "            unzip_dir=config.unzip_dir \n",
    "        )\n",
    "\n",
    "        return data_ingestion_config"
   ]
  },
  {
   "cell_type": "code",
   "execution_count": 8,
   "metadata": {},
   "outputs": [],
   "source": [
    "# these are libraries i need for to uodate the components \n",
    "import os\n",
    "import urllib.request as request # so i use the request to download the data from the URL\n",
    "import zipfile # here iam using the Zipfile to transform the data \n",
    "from TV_sales import logger # here logger is used to logger the data \n",
    "from TV_sales.utils.common import get_size # here i used the getsize is used to get to know the file size"
   ]
  },
  {
   "cell_type": "code",
   "execution_count": 9,
   "metadata": {},
   "outputs": [],
   "source": [
    "# Now iam going to define one class which is DataIngestion from that class which it will take the DataIngestionConfig because from this dataingestionConfig only it will get to know the path \n",
    "class DataIngestion:\n",
    "    def __init__(self, config: DataIngestionConfig):\n",
    "        self.config = config\n",
    "\n",
    "# now i will define one method which it is responsible for dowmloading the data \n",
    "    def download_file(self):\n",
    "        if not os.path.exists(self.config.local_data_file):\n",
    "            filename, headers = request.urlretrieve(\n",
    "                url = self.config.source_URL, # it will download the dta from this URL\n",
    "                filename = self.config.local_data_file\n",
    "            )\n",
    "            logger.info(f\"{filename} download! with following info: \\n{headers}\")\n",
    "        else:\n",
    "            logger.info(f\"File already exists of size: {get_size(Path(self.config.local_data_file))}\") # if the data file is already exist it will print the message like that data file is already exit\n",
    "\n",
    "\n",
    "# now iam going to another method called ExtractZipfile\n",
    "    def extract_zip_file(self):\n",
    "        \"\"\"\n",
    "        zip_file_path: str\n",
    "        Extracts the zip file into the data directory\n",
    "        Function returns None\n",
    "        \"\"\"\n",
    "        unzip_path = self.config.unzip_dir\n",
    "        os.makedirs(unzip_path, exist_ok=True)\n",
    "        with zipfile.ZipFile(self.config.local_data_file, 'r') as zip_ref: # here it will take the local_data_file path which is present in the config.yaml  local_data_file: artifacts/data_ingestion/data.zip and it will unzip the folder to this data_ingestion \n",
    "            zip_ref.extractall(unzip_path)"
   ]
  },
  {
   "cell_type": "code",
   "execution_count": null,
   "metadata": {},
   "outputs": [],
   "source": []
  },
  {
   "cell_type": "code",
   "execution_count": 10,
   "metadata": {},
   "outputs": [
    {
     "name": "stdout",
     "output_type": "stream",
     "text": [
      "[2024-02-03 13:21:37,630: INFO: common: yaml file: config\\config.yaml loaded successfully]\n",
      "[2024-02-03 13:21:37,634: INFO: common: yaml file: params.yaml loaded successfully]\n",
      "[2024-02-03 13:21:37,642: INFO: common: yaml file: schema.yaml loaded successfully]\n",
      "[2024-02-03 13:21:37,646: INFO: common: created directory at: artifacts]\n",
      "[2024-02-03 13:21:37,649: INFO: common: created directory at: artifacts/data_ingestion]\n",
      "[2024-02-03 13:22:33,612: INFO: 43584816: artifacts/data_ingestion/data.zip download! with following info: \n",
      "Connection: close\n",
      "Content-Length: 1829\n",
      "Cache-Control: max-age=300\n",
      "Content-Security-Policy: default-src 'none'; style-src 'unsafe-inline'; sandbox\n",
      "Content-Type: application/zip\n",
      "ETag: \"62e46d8a27ca82017e8cc49b2adb7fbfa00fafd48bb3b16b26e1fcd248d2cea2\"\n",
      "Strict-Transport-Security: max-age=31536000\n",
      "X-Content-Type-Options: nosniff\n",
      "X-Frame-Options: deny\n",
      "X-XSS-Protection: 1; mode=block\n",
      "X-GitHub-Request-Id: A76C:7A22:237F1E:2BD03D:65BDF0BE\n",
      "Accept-Ranges: bytes\n",
      "Date: Sat, 03 Feb 2024 07:52:31 GMT\n",
      "Via: 1.1 varnish\n",
      "X-Served-By: cache-maa10250-MAA\n",
      "X-Cache: MISS\n",
      "X-Cache-Hits: 0\n",
      "X-Timer: S1706946751.463137,VS0,VE295\n",
      "Vary: Authorization,Accept-Encoding,Origin\n",
      "Access-Control-Allow-Origin: *\n",
      "Cross-Origin-Resource-Policy: cross-origin\n",
      "X-Fastly-Request-ID: 0d799211fa2c012c103ff03990f9a3a704184fc1\n",
      "Expires: Sat, 03 Feb 2024 07:57:31 GMT\n",
      "Source-Age: 0\n",
      "\n",
      "]\n"
     ]
    }
   ],
   "source": [
    "# Now iam going to Update my pipeline First iam Initilizing my ConfigirationManager and from this COnfigrationManager iam calling my DataIngestionConfig and this thing iam returning it my dataingestionclass because it will take the data ingestion config  and this thing iam returning it my dataingestionclass because it will take the data ingestion config \n",
    "try:\n",
    "    config = ConfigurationManager()\n",
    "    data_ingestion_config = config.get_data_ingestion_config()\n",
    "    data_ingestion = DataIngestion(config=data_ingestion_config) # here iam passing my dataingestionconfig\n",
    "    data_ingestion.download_file() # here iam downloading the file\n",
    "    data_ingestion.extract_zip_file() # here iam extracting the zip file , and here we following it by step by step thats why we call it as pipeline \n",
    "except Exception as e:\n",
    "    raise e"
   ]
  },
  {
   "cell_type": "code",
   "execution_count": null,
   "metadata": {},
   "outputs": [],
   "source": []
  },
  {
   "cell_type": "code",
   "execution_count": null,
   "metadata": {},
   "outputs": [],
   "source": []
  }
 ],
 "metadata": {
  "kernelspec": {
   "display_name": "venv",
   "language": "python",
   "name": "python3"
  },
  "language_info": {
   "codemirror_mode": {
    "name": "ipython",
    "version": 3
   },
   "file_extension": ".py",
   "mimetype": "text/x-python",
   "name": "python",
   "nbconvert_exporter": "python",
   "pygments_lexer": "ipython3",
   "version": "3.9.17"
  }
 },
 "nbformat": 4,
 "nbformat_minor": 2
}

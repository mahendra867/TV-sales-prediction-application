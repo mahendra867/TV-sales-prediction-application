{
 "cells": [
  {
   "cell_type": "code",
   "execution_count": 11,
   "metadata": {},
   "outputs": [
    {
     "data": {
      "text/plain": [
       "'value1'"
      ]
     },
     "execution_count": 11,
     "metadata": {},
     "output_type": "execute_result"
    }
   ],
   "source": [
    "a={'key1':\"value1\",'key2':'Value2'} # here i created the dictionary\n",
    "\n",
    "a # i printed the output \n",
    "\n",
    "a['key1'] # here i printed the value of key1\n",
    "\n",
    "\n",
    "# usage of config box \n",
    "\n",
    "from box import ConfigBox \n",
    "\n",
    "a1=ConfigBox({'key1':\"value1\",'key2':'Value2'}) # here i created the conigBox with Dictionary \n",
    "\n",
    "a1['key1'] # this normal way of printing a key1 value of dictionary\n",
    "\n",
    "a1.key1 # here i printed the key1 value by just putting . to variable a1 rather than printing it by using like a1[key1]\n",
    "        # so by using ConfigBox we can print like this a1.key1 with very easily"
   ]
  },
  {
   "cell_type": "code",
   "execution_count": 6,
   "metadata": {},
   "outputs": [],
   "source": [
    "from box import ConfigBox "
   ]
  },
  {
   "cell_type": "code",
   "execution_count": 12,
   "metadata": {},
   "outputs": [
    {
     "name": "stdout",
     "output_type": "stream",
     "text": [
      "8\n",
      "44\n"
     ]
    },
    {
     "ename": "EnsureError",
     "evalue": "Argument y of type <class 'str'> to <function get_product at 0x0000014D3CC26670> does not match annotation type <class 'int'>",
     "output_type": "error",
     "traceback": [
      "\u001b[1;31m---------------------------------------------------------------------------\u001b[0m",
      "\u001b[1;31mEnsureError\u001b[0m                               Traceback (most recent call last)",
      "Cell \u001b[1;32mIn[12], line 16\u001b[0m\n\u001b[0;32m     12\u001b[0m \u001b[38;5;129m@ensure_annotations\u001b[39m\n\u001b[0;32m     13\u001b[0m \u001b[38;5;28;01mdef\u001b[39;00m \u001b[38;5;21mget_product\u001b[39m(x:\u001b[38;5;28mint\u001b[39m,y:\u001b[38;5;28mint\u001b[39m):\n\u001b[0;32m     14\u001b[0m     \u001b[38;5;28mprint\u001b[39m(x\u001b[38;5;241m*\u001b[39my)\n\u001b[1;32m---> 16\u001b[0m \u001b[43mget_product\u001b[49m\u001b[43m(\u001b[49m\u001b[38;5;241;43m2\u001b[39;49m\u001b[43m,\u001b[49m\u001b[38;5;124;43m\"\u001b[39;49m\u001b[38;5;124;43m4\u001b[39;49m\u001b[38;5;124;43m\"\u001b[39;49m\u001b[43m)\u001b[49m \u001b[38;5;66;03m#  in this operation even the data does not get match according to inilized varaiables data types it does not get matchso it throwed the error throw\u001b[39;00m\n",
      "File \u001b[1;32mc:\\Users\\mahen\\ANACONDA\\envs\\venv\\lib\\site-packages\\ensure\\main.py:803\u001b[0m, in \u001b[0;36mWrappedFunction.__call__\u001b[1;34m(self, *args, **kwargs)\u001b[0m\n\u001b[0;32m    798\u001b[0m     \u001b[38;5;28;01mif\u001b[39;00m \u001b[38;5;129;01mnot\u001b[39;00m \u001b[38;5;28misinstance\u001b[39m(value, templ):\n\u001b[0;32m    799\u001b[0m         msg \u001b[38;5;241m=\u001b[39m (\n\u001b[0;32m    800\u001b[0m             \u001b[38;5;124m\"\u001b[39m\u001b[38;5;124mArgument \u001b[39m\u001b[38;5;132;01m{arg}\u001b[39;00m\u001b[38;5;124m of type \u001b[39m\u001b[38;5;132;01m{valt}\u001b[39;00m\u001b[38;5;124m to \u001b[39m\u001b[38;5;132;01m{f}\u001b[39;00m\u001b[38;5;124m \u001b[39m\u001b[38;5;124m\"\u001b[39m\n\u001b[0;32m    801\u001b[0m             \u001b[38;5;124m\"\u001b[39m\u001b[38;5;124mdoes not match annotation type \u001b[39m\u001b[38;5;132;01m{t}\u001b[39;00m\u001b[38;5;124m\"\u001b[39m\n\u001b[0;32m    802\u001b[0m         )\n\u001b[1;32m--> 803\u001b[0m         \u001b[38;5;28;01mraise\u001b[39;00m EnsureError(msg\u001b[38;5;241m.\u001b[39mformat(\n\u001b[0;32m    804\u001b[0m             arg\u001b[38;5;241m=\u001b[39marg, f\u001b[38;5;241m=\u001b[39m\u001b[38;5;28mself\u001b[39m\u001b[38;5;241m.\u001b[39mf, t\u001b[38;5;241m=\u001b[39mtempl, valt\u001b[38;5;241m=\u001b[39m\u001b[38;5;28mtype\u001b[39m(value)\n\u001b[0;32m    805\u001b[0m         ))\n\u001b[0;32m    807\u001b[0m \u001b[38;5;28;01mreturn\u001b[39;00m \u001b[38;5;28mself\u001b[39m\u001b[38;5;241m.\u001b[39mf(\u001b[38;5;241m*\u001b[39margs, \u001b[38;5;241m*\u001b[39m\u001b[38;5;241m*\u001b[39mkwargs)\n",
      "\u001b[1;31mEnsureError\u001b[0m: Argument y of type <class 'str'> to <function get_product at 0x0000014D3CC26670> does not match annotation type <class 'int'>"
     ]
    }
   ],
   "source": [
    "# what is ensure annotation  this below code helps us to determine the enusre annotation\n",
    "\n",
    "# @ ensure_annotations is used to throw the errors the when the initilied data types to the variable  does not get matches with values passed data types usually when we are dealing with the code ususally it dont thorw the error when 2 different data types does not get matches so by using ensure annotations we can detect the error when data types and the passed values data types does not get match\n",
    "from ensure import ensure_annotations\n",
    "def get_product(x:int,y:int):\n",
    "    print(x*y)\n",
    "get_product(2,4)\n",
    "\n",
    "get_product(2,\"4\") # in this operation even the data does not get match according to inilized varaiables data types still it does not throw error \n",
    "\n",
    "\n",
    "@ensure_annotations\n",
    "def get_product(x:int,y:int):\n",
    "    print(x*y)\n",
    "\n",
    "get_product(2,\"4\") #  in this operation even the data does not get match according to inilized varaiables data types it does not get matchso it throwed the error throw"
   ]
  },
  {
   "cell_type": "code",
   "execution_count": null,
   "metadata": {},
   "outputs": [],
   "source": []
  }
 ],
 "metadata": {
  "kernelspec": {
   "display_name": "venv",
   "language": "python",
   "name": "python3"
  },
  "language_info": {
   "codemirror_mode": {
    "name": "ipython",
    "version": 3
   },
   "file_extension": ".py",
   "mimetype": "text/x-python",
   "name": "python",
   "nbconvert_exporter": "python",
   "pygments_lexer": "ipython3",
   "version": "3.9.17"
  }
 },
 "nbformat": 4,
 "nbformat_minor": 2
}
